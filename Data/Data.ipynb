{
 "cells": [
  {
   "cell_type": "code",
   "execution_count": 1,
   "metadata": {},
   "outputs": [
    {
     "name": "stdout",
     "output_type": "stream",
     "text": [
      "Data merged and saved successfully at C:\\Users\\zarap\\OneDrive\\UofT BootCamp\\Class Project\\Citi Bike NewYork\\Data\\merged_citibike_data_2020.csv\n"
     ]
    }
   ],
   "source": [
    "import pandas as pd\n",
    "import glob\n",
    "import os\n",
    "\n",
    "# Define the directory path for your Citi Bike data files\n",
    "data_directory = r\"C:\\Users\\zarap\\OneDrive\\UofT BootCamp\\Class Project\\Citi Bike NewYork\\Data\"\n",
    "\n",
    "# Use glob to get a list of all CSV files in the specified directory\n",
    "file_paths = glob.glob(os.path.join(data_directory, \"JC-2020*.csv\"))\n",
    "\n",
    "# Check if any files were found before attempting to merge\n",
    "if not file_paths:\n",
    "    print(\"No files found. Please check the directory path and file naming pattern.\")\n",
    "else:\n",
    "    # Load and concatenate all CSV files\n",
    "    merged_data = pd.concat([pd.read_csv(file) for file in file_paths], ignore_index=True)\n",
    "    \n",
    "    # Define the path for saving the merged CSV file\n",
    "    output_path = os.path.join(data_directory, \"merged_citibike_data_2020.csv\")\n",
    "    \n",
    "    # Export the merged data to a CSV file\n",
    "    merged_data.to_csv(output_path, index=False)\n",
    "    \n",
    "    print(f\"Data merged and saved successfully at {output_path}\")\n"
   ]
  }
 ],
 "metadata": {
  "kernelspec": {
   "display_name": "base",
   "language": "python",
   "name": "python3"
  },
  "language_info": {
   "codemirror_mode": {
    "name": "ipython",
    "version": 3
   },
   "file_extension": ".py",
   "mimetype": "text/x-python",
   "name": "python",
   "nbconvert_exporter": "python",
   "pygments_lexer": "ipython3",
   "version": "3.12.3"
  }
 },
 "nbformat": 4,
 "nbformat_minor": 2
}
